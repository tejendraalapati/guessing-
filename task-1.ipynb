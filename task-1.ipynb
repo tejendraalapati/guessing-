{
 "cells": [
  {
   "cell_type": "code",
   "execution_count": 1,
   "metadata": {},
   "outputs": [],
   "source": [
    "import random"
   ]
  },
  {
   "cell_type": "code",
   "execution_count": 17,
   "metadata": {},
   "outputs": [
    {
     "name": "stdout",
     "output_type": "stream",
     "text": [
      "computer_number 67\n",
      "your number is too Lower\n"
     ]
    }
   ],
   "source": [
    "computer_number=random.randrange(1,100)\n",
    "userInput=int(input('enter your number'))\n",
    "if userInput==computer_number:\n",
    "    print('computer_number',computer_number)\n",
    "    print('congratulations you number has been correct')\n",
    "elif userInput>computer_number:\n",
    "    print('computer_number',computer_number)\n",
    "    print('your number is too higher')\n",
    "elif userInput<computer_number:\n",
    "     print('computer_number',computer_number)\n",
    "     print('your number is too Lower')\n",
    "else:\n",
    "    print('computer_number',computer_number)\n",
    "    print('Sorry your number has been failed')"
   ]
  }
 ],
 "metadata": {
  "kernelspec": {
   "display_name": "Python 3",
   "language": "python",
   "name": "python3"
  },
  "language_info": {
   "codemirror_mode": {
    "name": "ipython",
    "version": 3
   },
   "file_extension": ".py",
   "mimetype": "text/x-python",
   "name": "python",
   "nbconvert_exporter": "python",
   "pygments_lexer": "ipython3",
   "version": "3.11.0"
  },
  "orig_nbformat": 4
 },
 "nbformat": 4,
 "nbformat_minor": 2
}
